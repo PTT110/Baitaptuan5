{
 "cells": [
  {
   "cell_type": "code",
   "execution_count": 15,
   "id": "bda622b6",
   "metadata": {},
   "outputs": [
    {
     "name": "stdout",
     "output_type": "stream",
     "text": [
      "Nhập vào họ tên:mai phuong thuy\n",
      "Nhập năm sinh:2000\n",
      "Bạn \"MAI PHUONG THUY\" năm nay 19 tuổi!\n"
     ]
    }
   ],
   "source": [
    "ho_ten=input('Nhập vào họ tên:')\n",
    "nam_sinh=int(input('Nhập năm sinh:'))\n",
    "tuoi=2019-nam_sinh\n",
    "print(f\"Bạn \\\"{ho_ten.upper()}\\\" năm nay {tuoi} tuổi!\")\n"
   ]
  },
  {
   "cell_type": "code",
   "execution_count": 16,
   "id": "72543190",
   "metadata": {
    "scrolled": false
   },
   "outputs": [
    {
     "ename": "NameError",
     "evalue": "name 'a' is not defined",
     "output_type": "error",
     "traceback": [
      "\u001b[1;31m---------------------------------------------------------------------------\u001b[0m",
      "\u001b[1;31mNameError\u001b[0m                                 Traceback (most recent call last)",
      "Cell \u001b[1;32mIn[16], line 1\u001b[0m\n\u001b[1;32m----> 1\u001b[0m a\n",
      "\u001b[1;31mNameError\u001b[0m: name 'a' is not defined"
     ]
    }
   ],
   "source": []
  },
  {
   "cell_type": "code",
   "execution_count": null,
   "id": "79f74b8e",
   "metadata": {},
   "outputs": [],
   "source": []
  }
 ],
 "metadata": {
  "kernelspec": {
   "display_name": "Python 3 (ipykernel)",
   "language": "python",
   "name": "python3"
  },
  "language_info": {
   "codemirror_mode": {
    "name": "ipython",
    "version": 3
   },
   "file_extension": ".py",
   "mimetype": "text/x-python",
   "name": "python",
   "nbconvert_exporter": "python",
   "pygments_lexer": "ipython3",
   "version": "3.11.4"
  }
 },
 "nbformat": 4,
 "nbformat_minor": 5
}
